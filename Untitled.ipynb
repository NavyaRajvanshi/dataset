{
 "cells": [
  {
   "cell_type": "code",
   "execution_count": 27,
   "id": "9edc9a30",
   "metadata": {},
   "outputs": [
    {
     "name": "stdout",
     "output_type": "stream",
     "text": [
      "Requirement already satisfied: scikit-learn in c:\\users\\welcome\\anaconda3\\lib\\site-packages (0.24.2)\n",
      "Requirement already satisfied: threadpoolctl>=2.0.0 in c:\\users\\welcome\\anaconda3\\lib\\site-packages (from scikit-learn) (2.2.0)\n",
      "Requirement already satisfied: numpy>=1.13.3 in c:\\users\\welcome\\anaconda3\\lib\\site-packages (from scikit-learn) (1.20.3)\n",
      "Requirement already satisfied: scipy>=0.19.1 in c:\\users\\welcome\\anaconda3\\lib\\site-packages (from scikit-learn) (1.7.1)\n",
      "Requirement already satisfied: joblib>=0.11 in c:\\users\\welcome\\anaconda3\\lib\\site-packages (from scikit-learn) (1.1.0)\n"
     ]
    }
   ],
   "source": [
    "!pip install scikit-learn"
   ]
  },
  {
   "cell_type": "code",
   "execution_count": 28,
   "id": "8297aece",
   "metadata": {},
   "outputs": [],
   "source": [
    "import numpy as np\n",
    "import pandas as pd\n",
    "import matplotlib.pyplot as plt\n",
    "from sklearn import linear_model\n",
    "%matplotlib inline\n",
    "import seaborn as sns"
   ]
  },
  {
   "cell_type": "code",
   "execution_count": 29,
   "id": "40fffd85",
   "metadata": {},
   "outputs": [
    {
     "data": {
      "text/html": [
       "<div>\n",
       "<style scoped>\n",
       "    .dataframe tbody tr th:only-of-type {\n",
       "        vertical-align: middle;\n",
       "    }\n",
       "\n",
       "    .dataframe tbody tr th {\n",
       "        vertical-align: top;\n",
       "    }\n",
       "\n",
       "    .dataframe thead th {\n",
       "        text-align: right;\n",
       "    }\n",
       "</style>\n",
       "<table border=\"1\" class=\"dataframe\">\n",
       "  <thead>\n",
       "    <tr style=\"text-align: right;\">\n",
       "      <th></th>\n",
       "      <th>Email</th>\n",
       "      <th>Address</th>\n",
       "      <th>Avatar</th>\n",
       "      <th>Avg. Session Length</th>\n",
       "      <th>Time on App</th>\n",
       "      <th>Time on Website</th>\n",
       "      <th>Length of Membership</th>\n",
       "      <th>Yearly Amount Spent</th>\n",
       "    </tr>\n",
       "  </thead>\n",
       "  <tbody>\n",
       "    <tr>\n",
       "      <th>0</th>\n",
       "      <td>mstephenson@fernandez.com</td>\n",
       "      <td>835 Frank Tunnel\\nWrightmouth, MI 82180-9605</td>\n",
       "      <td>Violet</td>\n",
       "      <td>34.497268</td>\n",
       "      <td>12.655651</td>\n",
       "      <td>39.577668</td>\n",
       "      <td>4.082621</td>\n",
       "      <td>587.951054</td>\n",
       "    </tr>\n",
       "    <tr>\n",
       "      <th>1</th>\n",
       "      <td>hduke@hotmail.com</td>\n",
       "      <td>4547 Archer Common\\nDiazchester, CA 06566-8576</td>\n",
       "      <td>DarkGreen</td>\n",
       "      <td>31.926272</td>\n",
       "      <td>11.109461</td>\n",
       "      <td>37.268959</td>\n",
       "      <td>2.664034</td>\n",
       "      <td>392.204933</td>\n",
       "    </tr>\n",
       "    <tr>\n",
       "      <th>2</th>\n",
       "      <td>pallen@yahoo.com</td>\n",
       "      <td>24645 Valerie Unions Suite 582\\nCobbborough, D...</td>\n",
       "      <td>Bisque</td>\n",
       "      <td>33.000915</td>\n",
       "      <td>11.330278</td>\n",
       "      <td>37.110597</td>\n",
       "      <td>4.104543</td>\n",
       "      <td>487.547505</td>\n",
       "    </tr>\n",
       "    <tr>\n",
       "      <th>3</th>\n",
       "      <td>riverarebecca@gmail.com</td>\n",
       "      <td>1414 David Throughway\\nPort Jason, OH 22070-1220</td>\n",
       "      <td>SaddleBrown</td>\n",
       "      <td>34.305557</td>\n",
       "      <td>13.717514</td>\n",
       "      <td>36.721283</td>\n",
       "      <td>3.120179</td>\n",
       "      <td>581.852344</td>\n",
       "    </tr>\n",
       "    <tr>\n",
       "      <th>4</th>\n",
       "      <td>mstephens@davidson-herman.com</td>\n",
       "      <td>14023 Rodriguez Passage\\nPort Jacobville, PR 3...</td>\n",
       "      <td>MediumAquaMarine</td>\n",
       "      <td>33.330673</td>\n",
       "      <td>12.795189</td>\n",
       "      <td>37.536653</td>\n",
       "      <td>4.446308</td>\n",
       "      <td>599.406092</td>\n",
       "    </tr>\n",
       "    <tr>\n",
       "      <th>...</th>\n",
       "      <td>...</td>\n",
       "      <td>...</td>\n",
       "      <td>...</td>\n",
       "      <td>...</td>\n",
       "      <td>...</td>\n",
       "      <td>...</td>\n",
       "      <td>...</td>\n",
       "      <td>...</td>\n",
       "    </tr>\n",
       "    <tr>\n",
       "      <th>495</th>\n",
       "      <td>lewisjessica@craig-evans.com</td>\n",
       "      <td>4483 Jones Motorway Suite 872\\nLake Jamiefurt,...</td>\n",
       "      <td>Tan</td>\n",
       "      <td>33.237660</td>\n",
       "      <td>13.566160</td>\n",
       "      <td>36.417985</td>\n",
       "      <td>3.746573</td>\n",
       "      <td>573.847438</td>\n",
       "    </tr>\n",
       "    <tr>\n",
       "      <th>496</th>\n",
       "      <td>katrina56@gmail.com</td>\n",
       "      <td>172 Owen Divide Suite 497\\nWest Richard, CA 19320</td>\n",
       "      <td>PaleVioletRed</td>\n",
       "      <td>34.702529</td>\n",
       "      <td>11.695736</td>\n",
       "      <td>37.190268</td>\n",
       "      <td>3.576526</td>\n",
       "      <td>529.049004</td>\n",
       "    </tr>\n",
       "    <tr>\n",
       "      <th>497</th>\n",
       "      <td>dale88@hotmail.com</td>\n",
       "      <td>0787 Andrews Ranch Apt. 633\\nSouth Chadburgh, ...</td>\n",
       "      <td>Cornsilk</td>\n",
       "      <td>32.646777</td>\n",
       "      <td>11.499409</td>\n",
       "      <td>38.332576</td>\n",
       "      <td>4.958264</td>\n",
       "      <td>551.620145</td>\n",
       "    </tr>\n",
       "    <tr>\n",
       "      <th>498</th>\n",
       "      <td>cwilson@hotmail.com</td>\n",
       "      <td>680 Jennifer Lodge Apt. 808\\nBrendachester, TX...</td>\n",
       "      <td>Teal</td>\n",
       "      <td>33.322501</td>\n",
       "      <td>12.391423</td>\n",
       "      <td>36.840086</td>\n",
       "      <td>2.336485</td>\n",
       "      <td>456.469510</td>\n",
       "    </tr>\n",
       "    <tr>\n",
       "      <th>499</th>\n",
       "      <td>hannahwilson@davidson.com</td>\n",
       "      <td>49791 Rachel Heights Apt. 898\\nEast Drewboroug...</td>\n",
       "      <td>DarkMagenta</td>\n",
       "      <td>33.715981</td>\n",
       "      <td>12.418808</td>\n",
       "      <td>35.771016</td>\n",
       "      <td>2.735160</td>\n",
       "      <td>497.778642</td>\n",
       "    </tr>\n",
       "  </tbody>\n",
       "</table>\n",
       "<p>500 rows × 8 columns</p>\n",
       "</div>"
      ],
      "text/plain": [
       "                             Email  \\\n",
       "0        mstephenson@fernandez.com   \n",
       "1                hduke@hotmail.com   \n",
       "2                 pallen@yahoo.com   \n",
       "3          riverarebecca@gmail.com   \n",
       "4    mstephens@davidson-herman.com   \n",
       "..                             ...   \n",
       "495   lewisjessica@craig-evans.com   \n",
       "496            katrina56@gmail.com   \n",
       "497             dale88@hotmail.com   \n",
       "498            cwilson@hotmail.com   \n",
       "499      hannahwilson@davidson.com   \n",
       "\n",
       "                                               Address            Avatar  \\\n",
       "0         835 Frank Tunnel\\nWrightmouth, MI 82180-9605            Violet   \n",
       "1       4547 Archer Common\\nDiazchester, CA 06566-8576         DarkGreen   \n",
       "2    24645 Valerie Unions Suite 582\\nCobbborough, D...            Bisque   \n",
       "3     1414 David Throughway\\nPort Jason, OH 22070-1220       SaddleBrown   \n",
       "4    14023 Rodriguez Passage\\nPort Jacobville, PR 3...  MediumAquaMarine   \n",
       "..                                                 ...               ...   \n",
       "495  4483 Jones Motorway Suite 872\\nLake Jamiefurt,...               Tan   \n",
       "496  172 Owen Divide Suite 497\\nWest Richard, CA 19320     PaleVioletRed   \n",
       "497  0787 Andrews Ranch Apt. 633\\nSouth Chadburgh, ...          Cornsilk   \n",
       "498  680 Jennifer Lodge Apt. 808\\nBrendachester, TX...              Teal   \n",
       "499  49791 Rachel Heights Apt. 898\\nEast Drewboroug...       DarkMagenta   \n",
       "\n",
       "     Avg. Session Length  Time on App  Time on Website  Length of Membership  \\\n",
       "0              34.497268    12.655651        39.577668              4.082621   \n",
       "1              31.926272    11.109461        37.268959              2.664034   \n",
       "2              33.000915    11.330278        37.110597              4.104543   \n",
       "3              34.305557    13.717514        36.721283              3.120179   \n",
       "4              33.330673    12.795189        37.536653              4.446308   \n",
       "..                   ...          ...              ...                   ...   \n",
       "495            33.237660    13.566160        36.417985              3.746573   \n",
       "496            34.702529    11.695736        37.190268              3.576526   \n",
       "497            32.646777    11.499409        38.332576              4.958264   \n",
       "498            33.322501    12.391423        36.840086              2.336485   \n",
       "499            33.715981    12.418808        35.771016              2.735160   \n",
       "\n",
       "     Yearly Amount Spent  \n",
       "0             587.951054  \n",
       "1             392.204933  \n",
       "2             487.547505  \n",
       "3             581.852344  \n",
       "4             599.406092  \n",
       "..                   ...  \n",
       "495           573.847438  \n",
       "496           529.049004  \n",
       "497           551.620145  \n",
       "498           456.469510  \n",
       "499           497.778642  \n",
       "\n",
       "[500 rows x 8 columns]"
      ]
     },
     "execution_count": 29,
     "metadata": {},
     "output_type": "execute_result"
    }
   ],
   "source": [
    "file=pd.read_csv(\"Ecommerce Customers.csv\")\n",
    "file"
   ]
  },
  {
   "cell_type": "code",
   "execution_count": 30,
   "id": "056f8d82",
   "metadata": {},
   "outputs": [
    {
     "data": {
      "text/plain": [
       "Index(['Email', 'Address', 'Avatar', 'Avg. Session Length', 'Time on App',\n",
       "       'Time on Website', 'Length of Membership', 'Yearly Amount Spent'],\n",
       "      dtype='object')"
      ]
     },
     "execution_count": 30,
     "metadata": {},
     "output_type": "execute_result"
    }
   ],
   "source": [
    "file.columns"
   ]
  },
  {
   "cell_type": "code",
   "execution_count": 31,
   "id": "928c8667",
   "metadata": {},
   "outputs": [
    {
     "data": {
      "text/plain": [
       "<bound method DataFrame.info of                              Email  \\\n",
       "0        mstephenson@fernandez.com   \n",
       "1                hduke@hotmail.com   \n",
       "2                 pallen@yahoo.com   \n",
       "3          riverarebecca@gmail.com   \n",
       "4    mstephens@davidson-herman.com   \n",
       "..                             ...   \n",
       "495   lewisjessica@craig-evans.com   \n",
       "496            katrina56@gmail.com   \n",
       "497             dale88@hotmail.com   \n",
       "498            cwilson@hotmail.com   \n",
       "499      hannahwilson@davidson.com   \n",
       "\n",
       "                                               Address            Avatar  \\\n",
       "0         835 Frank Tunnel\\nWrightmouth, MI 82180-9605            Violet   \n",
       "1       4547 Archer Common\\nDiazchester, CA 06566-8576         DarkGreen   \n",
       "2    24645 Valerie Unions Suite 582\\nCobbborough, D...            Bisque   \n",
       "3     1414 David Throughway\\nPort Jason, OH 22070-1220       SaddleBrown   \n",
       "4    14023 Rodriguez Passage\\nPort Jacobville, PR 3...  MediumAquaMarine   \n",
       "..                                                 ...               ...   \n",
       "495  4483 Jones Motorway Suite 872\\nLake Jamiefurt,...               Tan   \n",
       "496  172 Owen Divide Suite 497\\nWest Richard, CA 19320     PaleVioletRed   \n",
       "497  0787 Andrews Ranch Apt. 633\\nSouth Chadburgh, ...          Cornsilk   \n",
       "498  680 Jennifer Lodge Apt. 808\\nBrendachester, TX...              Teal   \n",
       "499  49791 Rachel Heights Apt. 898\\nEast Drewboroug...       DarkMagenta   \n",
       "\n",
       "     Avg. Session Length  Time on App  Time on Website  Length of Membership  \\\n",
       "0              34.497268    12.655651        39.577668              4.082621   \n",
       "1              31.926272    11.109461        37.268959              2.664034   \n",
       "2              33.000915    11.330278        37.110597              4.104543   \n",
       "3              34.305557    13.717514        36.721283              3.120179   \n",
       "4              33.330673    12.795189        37.536653              4.446308   \n",
       "..                   ...          ...              ...                   ...   \n",
       "495            33.237660    13.566160        36.417985              3.746573   \n",
       "496            34.702529    11.695736        37.190268              3.576526   \n",
       "497            32.646777    11.499409        38.332576              4.958264   \n",
       "498            33.322501    12.391423        36.840086              2.336485   \n",
       "499            33.715981    12.418808        35.771016              2.735160   \n",
       "\n",
       "     Yearly Amount Spent  \n",
       "0             587.951054  \n",
       "1             392.204933  \n",
       "2             487.547505  \n",
       "3             581.852344  \n",
       "4             599.406092  \n",
       "..                   ...  \n",
       "495           573.847438  \n",
       "496           529.049004  \n",
       "497           551.620145  \n",
       "498           456.469510  \n",
       "499           497.778642  \n",
       "\n",
       "[500 rows x 8 columns]>"
      ]
     },
     "execution_count": 31,
     "metadata": {},
     "output_type": "execute_result"
    }
   ],
   "source": [
    "file.info"
   ]
  },
  {
   "cell_type": "code",
   "execution_count": 32,
   "id": "9c962ee3",
   "metadata": {},
   "outputs": [
    {
     "data": {
      "text/html": [
       "<div>\n",
       "<style scoped>\n",
       "    .dataframe tbody tr th:only-of-type {\n",
       "        vertical-align: middle;\n",
       "    }\n",
       "\n",
       "    .dataframe tbody tr th {\n",
       "        vertical-align: top;\n",
       "    }\n",
       "\n",
       "    .dataframe thead th {\n",
       "        text-align: right;\n",
       "    }\n",
       "</style>\n",
       "<table border=\"1\" class=\"dataframe\">\n",
       "  <thead>\n",
       "    <tr style=\"text-align: right;\">\n",
       "      <th></th>\n",
       "      <th>Avg. Session Length</th>\n",
       "      <th>Time on App</th>\n",
       "      <th>Time on Website</th>\n",
       "      <th>Length of Membership</th>\n",
       "      <th>Yearly Amount Spent</th>\n",
       "    </tr>\n",
       "  </thead>\n",
       "  <tbody>\n",
       "    <tr>\n",
       "      <th>Avg. Session Length</th>\n",
       "      <td>1.000000</td>\n",
       "      <td>-0.027826</td>\n",
       "      <td>-0.034987</td>\n",
       "      <td>0.060247</td>\n",
       "      <td>0.355088</td>\n",
       "    </tr>\n",
       "    <tr>\n",
       "      <th>Time on App</th>\n",
       "      <td>-0.027826</td>\n",
       "      <td>1.000000</td>\n",
       "      <td>0.082388</td>\n",
       "      <td>0.029143</td>\n",
       "      <td>0.499328</td>\n",
       "    </tr>\n",
       "    <tr>\n",
       "      <th>Time on Website</th>\n",
       "      <td>-0.034987</td>\n",
       "      <td>0.082388</td>\n",
       "      <td>1.000000</td>\n",
       "      <td>-0.047582</td>\n",
       "      <td>-0.002641</td>\n",
       "    </tr>\n",
       "    <tr>\n",
       "      <th>Length of Membership</th>\n",
       "      <td>0.060247</td>\n",
       "      <td>0.029143</td>\n",
       "      <td>-0.047582</td>\n",
       "      <td>1.000000</td>\n",
       "      <td>0.809084</td>\n",
       "    </tr>\n",
       "    <tr>\n",
       "      <th>Yearly Amount Spent</th>\n",
       "      <td>0.355088</td>\n",
       "      <td>0.499328</td>\n",
       "      <td>-0.002641</td>\n",
       "      <td>0.809084</td>\n",
       "      <td>1.000000</td>\n",
       "    </tr>\n",
       "  </tbody>\n",
       "</table>\n",
       "</div>"
      ],
      "text/plain": [
       "                      Avg. Session Length  Time on App  Time on Website  \\\n",
       "Avg. Session Length              1.000000    -0.027826        -0.034987   \n",
       "Time on App                     -0.027826     1.000000         0.082388   \n",
       "Time on Website                 -0.034987     0.082388         1.000000   \n",
       "Length of Membership             0.060247     0.029143        -0.047582   \n",
       "Yearly Amount Spent              0.355088     0.499328        -0.002641   \n",
       "\n",
       "                      Length of Membership  Yearly Amount Spent  \n",
       "Avg. Session Length               0.060247             0.355088  \n",
       "Time on App                       0.029143             0.499328  \n",
       "Time on Website                  -0.047582            -0.002641  \n",
       "Length of Membership              1.000000             0.809084  \n",
       "Yearly Amount Spent               0.809084             1.000000  "
      ]
     },
     "execution_count": 32,
     "metadata": {},
     "output_type": "execute_result"
    }
   ],
   "source": [
    "file.corr()"
   ]
  },
  {
   "cell_type": "code",
   "execution_count": 33,
   "id": "4acc8939",
   "metadata": {},
   "outputs": [
    {
     "data": {
      "text/html": [
       "<div>\n",
       "<style scoped>\n",
       "    .dataframe tbody tr th:only-of-type {\n",
       "        vertical-align: middle;\n",
       "    }\n",
       "\n",
       "    .dataframe tbody tr th {\n",
       "        vertical-align: top;\n",
       "    }\n",
       "\n",
       "    .dataframe thead th {\n",
       "        text-align: right;\n",
       "    }\n",
       "</style>\n",
       "<table border=\"1\" class=\"dataframe\">\n",
       "  <thead>\n",
       "    <tr style=\"text-align: right;\">\n",
       "      <th></th>\n",
       "      <th>Email</th>\n",
       "      <th>Address</th>\n",
       "      <th>Avatar</th>\n",
       "      <th>Avg. Session Length</th>\n",
       "      <th>Time on App</th>\n",
       "      <th>Time on Website</th>\n",
       "      <th>Length of Membership</th>\n",
       "      <th>Yearly Amount Spent</th>\n",
       "    </tr>\n",
       "  </thead>\n",
       "  <tbody>\n",
       "    <tr>\n",
       "      <th>0</th>\n",
       "      <td>False</td>\n",
       "      <td>False</td>\n",
       "      <td>False</td>\n",
       "      <td>False</td>\n",
       "      <td>False</td>\n",
       "      <td>False</td>\n",
       "      <td>False</td>\n",
       "      <td>False</td>\n",
       "    </tr>\n",
       "    <tr>\n",
       "      <th>1</th>\n",
       "      <td>False</td>\n",
       "      <td>False</td>\n",
       "      <td>False</td>\n",
       "      <td>False</td>\n",
       "      <td>False</td>\n",
       "      <td>False</td>\n",
       "      <td>False</td>\n",
       "      <td>False</td>\n",
       "    </tr>\n",
       "    <tr>\n",
       "      <th>2</th>\n",
       "      <td>False</td>\n",
       "      <td>False</td>\n",
       "      <td>False</td>\n",
       "      <td>False</td>\n",
       "      <td>False</td>\n",
       "      <td>False</td>\n",
       "      <td>False</td>\n",
       "      <td>False</td>\n",
       "    </tr>\n",
       "    <tr>\n",
       "      <th>3</th>\n",
       "      <td>False</td>\n",
       "      <td>False</td>\n",
       "      <td>False</td>\n",
       "      <td>False</td>\n",
       "      <td>False</td>\n",
       "      <td>False</td>\n",
       "      <td>False</td>\n",
       "      <td>False</td>\n",
       "    </tr>\n",
       "    <tr>\n",
       "      <th>4</th>\n",
       "      <td>False</td>\n",
       "      <td>False</td>\n",
       "      <td>False</td>\n",
       "      <td>False</td>\n",
       "      <td>False</td>\n",
       "      <td>False</td>\n",
       "      <td>False</td>\n",
       "      <td>False</td>\n",
       "    </tr>\n",
       "    <tr>\n",
       "      <th>...</th>\n",
       "      <td>...</td>\n",
       "      <td>...</td>\n",
       "      <td>...</td>\n",
       "      <td>...</td>\n",
       "      <td>...</td>\n",
       "      <td>...</td>\n",
       "      <td>...</td>\n",
       "      <td>...</td>\n",
       "    </tr>\n",
       "    <tr>\n",
       "      <th>495</th>\n",
       "      <td>False</td>\n",
       "      <td>False</td>\n",
       "      <td>False</td>\n",
       "      <td>False</td>\n",
       "      <td>False</td>\n",
       "      <td>False</td>\n",
       "      <td>False</td>\n",
       "      <td>False</td>\n",
       "    </tr>\n",
       "    <tr>\n",
       "      <th>496</th>\n",
       "      <td>False</td>\n",
       "      <td>False</td>\n",
       "      <td>False</td>\n",
       "      <td>False</td>\n",
       "      <td>False</td>\n",
       "      <td>False</td>\n",
       "      <td>False</td>\n",
       "      <td>False</td>\n",
       "    </tr>\n",
       "    <tr>\n",
       "      <th>497</th>\n",
       "      <td>False</td>\n",
       "      <td>False</td>\n",
       "      <td>False</td>\n",
       "      <td>False</td>\n",
       "      <td>False</td>\n",
       "      <td>False</td>\n",
       "      <td>False</td>\n",
       "      <td>False</td>\n",
       "    </tr>\n",
       "    <tr>\n",
       "      <th>498</th>\n",
       "      <td>False</td>\n",
       "      <td>False</td>\n",
       "      <td>False</td>\n",
       "      <td>False</td>\n",
       "      <td>False</td>\n",
       "      <td>False</td>\n",
       "      <td>False</td>\n",
       "      <td>False</td>\n",
       "    </tr>\n",
       "    <tr>\n",
       "      <th>499</th>\n",
       "      <td>False</td>\n",
       "      <td>False</td>\n",
       "      <td>False</td>\n",
       "      <td>False</td>\n",
       "      <td>False</td>\n",
       "      <td>False</td>\n",
       "      <td>False</td>\n",
       "      <td>False</td>\n",
       "    </tr>\n",
       "  </tbody>\n",
       "</table>\n",
       "<p>500 rows × 8 columns</p>\n",
       "</div>"
      ],
      "text/plain": [
       "     Email  Address  Avatar  Avg. Session Length  Time on App  \\\n",
       "0    False    False   False                False        False   \n",
       "1    False    False   False                False        False   \n",
       "2    False    False   False                False        False   \n",
       "3    False    False   False                False        False   \n",
       "4    False    False   False                False        False   \n",
       "..     ...      ...     ...                  ...          ...   \n",
       "495  False    False   False                False        False   \n",
       "496  False    False   False                False        False   \n",
       "497  False    False   False                False        False   \n",
       "498  False    False   False                False        False   \n",
       "499  False    False   False                False        False   \n",
       "\n",
       "     Time on Website  Length of Membership  Yearly Amount Spent  \n",
       "0              False                 False                False  \n",
       "1              False                 False                False  \n",
       "2              False                 False                False  \n",
       "3              False                 False                False  \n",
       "4              False                 False                False  \n",
       "..               ...                   ...                  ...  \n",
       "495            False                 False                False  \n",
       "496            False                 False                False  \n",
       "497            False                 False                False  \n",
       "498            False                 False                False  \n",
       "499            False                 False                False  \n",
       "\n",
       "[500 rows x 8 columns]"
      ]
     },
     "execution_count": 33,
     "metadata": {},
     "output_type": "execute_result"
    }
   ],
   "source": [
    "file.isnull()"
   ]
  },
  {
   "cell_type": "code",
   "execution_count": 34,
   "id": "9dde741e",
   "metadata": {},
   "outputs": [
    {
     "data": {
      "text/plain": [
       "Email                   0\n",
       "Address                 0\n",
       "Avatar                  0\n",
       "Avg. Session Length     0\n",
       "Time on App             0\n",
       "Time on Website         0\n",
       "Length of Membership    0\n",
       "Yearly Amount Spent     0\n",
       "dtype: int64"
      ]
     },
     "execution_count": 34,
     "metadata": {},
     "output_type": "execute_result"
    }
   ],
   "source": [
    "file.isnull().sum()"
   ]
  },
  {
   "cell_type": "code",
   "execution_count": 35,
   "id": "f5e03192",
   "metadata": {},
   "outputs": [
    {
     "data": {
      "text/plain": [
       "(500, 8)"
      ]
     },
     "execution_count": 35,
     "metadata": {},
     "output_type": "execute_result"
    }
   ],
   "source": [
    "file.shape"
   ]
  },
  {
   "cell_type": "code",
   "execution_count": 66,
   "id": "56ad350d",
   "metadata": {
    "scrolled": true
   },
   "outputs": [
    {
     "data": {
      "text/plain": [
       "<matplotlib.collections.PathCollection at 0x2b2f6f33760>"
      ]
     },
     "execution_count": 66,
     "metadata": {},
     "output_type": "execute_result"
    },
    {
     "data": {
      "image/png": "[encoded data removed]",
      "text/plain": [
       "<Figure size 432x288 with 1 Axes>"
      ]
     },
     "metadata": {
      "needs_background": "light"
     },
     "output_type": "display_data"
    }
   ],
   "source": [
    "x=file[\"Avg. Session Length\"]\n",
    "y=file[\"Yearly Amount Spent\"]\n",
    "plt.scatter(x,y)"
   ]
  },
  {
   "cell_type": "code",
   "execution_count": 37,
   "id": "db849e56",
   "metadata": {},
   "outputs": [],
   "source": [
    "from sklearn.linear_model import LinearRegression\n",
    "from sklearn.model_selection import train_test_split\n",
    "from sklearn.linear_model import Ridge"
   ]
  },
  {
   "cell_type": "code",
   "execution_count": 67,
   "id": "d8039da1",
   "metadata": {},
   "outputs": [],
   "source": [
    "a=file[['Time on Website', 'Length of Membership', 'Avg. Session Length', 'Time on App']]\n",
    "y=file[[\"Yearly Amount Spent\"]]"
   ]
  },
  {
   "cell_type": "code",
   "execution_count": 68,
   "id": "2bd2d230",
   "metadata": {},
   "outputs": [],
   "source": [
    "x_train,x_test,y_train,y_test = train_test_split(a,y,test_size=0.22,random_state=42)"
   ]
  },
  {
   "cell_type": "code",
   "execution_count": 69,
   "id": "14b98819",
   "metadata": {},
   "outputs": [
    {
     "data": {
      "text/html": [
       "<div>\n",
       "<style scoped>\n",
       "    .dataframe tbody tr th:only-of-type {\n",
       "        vertical-align: middle;\n",
       "    }\n",
       "\n",
       "    .dataframe tbody tr th {\n",
       "        vertical-align: top;\n",
       "    }\n",
       "\n",
       "    .dataframe thead th {\n",
       "        text-align: right;\n",
       "    }\n",
       "</style>\n",
       "<table border=\"1\" class=\"dataframe\">\n",
       "  <thead>\n",
       "    <tr style=\"text-align: right;\">\n",
       "      <th></th>\n",
       "      <th>Yearly Amount Spent</th>\n",
       "    </tr>\n",
       "  </thead>\n",
       "  <tbody>\n",
       "    <tr>\n",
       "      <th>0</th>\n",
       "      <td>587.951054</td>\n",
       "    </tr>\n",
       "    <tr>\n",
       "      <th>1</th>\n",
       "      <td>392.204933</td>\n",
       "    </tr>\n",
       "    <tr>\n",
       "      <th>2</th>\n",
       "      <td>487.547505</td>\n",
       "    </tr>\n",
       "    <tr>\n",
       "      <th>3</th>\n",
       "      <td>581.852344</td>\n",
       "    </tr>\n",
       "    <tr>\n",
       "      <th>4</th>\n",
       "      <td>599.406092</td>\n",
       "    </tr>\n",
       "    <tr>\n",
       "      <th>...</th>\n",
       "      <td>...</td>\n",
       "    </tr>\n",
       "    <tr>\n",
       "      <th>495</th>\n",
       "      <td>573.847438</td>\n",
       "    </tr>\n",
       "    <tr>\n",
       "      <th>496</th>\n",
       "      <td>529.049004</td>\n",
       "    </tr>\n",
       "    <tr>\n",
       "      <th>497</th>\n",
       "      <td>551.620145</td>\n",
       "    </tr>\n",
       "    <tr>\n",
       "      <th>498</th>\n",
       "      <td>456.469510</td>\n",
       "    </tr>\n",
       "    <tr>\n",
       "      <th>499</th>\n",
       "      <td>497.778642</td>\n",
       "    </tr>\n",
       "  </tbody>\n",
       "</table>\n",
       "<p>500 rows × 1 columns</p>\n",
       "</div>"
      ],
      "text/plain": [
       "     Yearly Amount Spent\n",
       "0             587.951054\n",
       "1             392.204933\n",
       "2             487.547505\n",
       "3             581.852344\n",
       "4             599.406092\n",
       "..                   ...\n",
       "495           573.847438\n",
       "496           529.049004\n",
       "497           551.620145\n",
       "498           456.469510\n",
       "499           497.778642\n",
       "\n",
       "[500 rows x 1 columns]"
      ]
     },
     "execution_count": 69,
     "metadata": {},
     "output_type": "execute_result"
    }
   ],
   "source": [
    "y"
   ]
  },
  {
   "cell_type": "code",
   "execution_count": 70,
   "id": "d67e8c58",
   "metadata": {},
   "outputs": [
    {
     "data": {
      "text/html": [
       "<div>\n",
       "<style scoped>\n",
       "    .dataframe tbody tr th:only-of-type {\n",
       "        vertical-align: middle;\n",
       "    }\n",
       "\n",
       "    .dataframe tbody tr th {\n",
       "        vertical-align: top;\n",
       "    }\n",
       "\n",
       "    .dataframe thead th {\n",
       "        text-align: right;\n",
       "    }\n",
       "</style>\n",
       "<table border=\"1\" class=\"dataframe\">\n",
       "  <thead>\n",
       "    <tr style=\"text-align: right;\">\n",
       "      <th></th>\n",
       "      <th>Time on Website</th>\n",
       "      <th>Length of Membership</th>\n",
       "      <th>Avg. Session Length</th>\n",
       "      <th>Time on App</th>\n",
       "    </tr>\n",
       "  </thead>\n",
       "  <tbody>\n",
       "    <tr>\n",
       "      <th>0</th>\n",
       "      <td>39.577668</td>\n",
       "      <td>4.082621</td>\n",
       "      <td>34.497268</td>\n",
       "      <td>12.655651</td>\n",
       "    </tr>\n",
       "    <tr>\n",
       "      <th>1</th>\n",
       "      <td>37.268959</td>\n",
       "      <td>2.664034</td>\n",
       "      <td>31.926272</td>\n",
       "      <td>11.109461</td>\n",
       "    </tr>\n",
       "    <tr>\n",
       "      <th>2</th>\n",
       "      <td>37.110597</td>\n",
       "      <td>4.104543</td>\n",
       "      <td>33.000915</td>\n",
       "      <td>11.330278</td>\n",
       "    </tr>\n",
       "    <tr>\n",
       "      <th>3</th>\n",
       "      <td>36.721283</td>\n",
       "      <td>3.120179</td>\n",
       "      <td>34.305557</td>\n",
       "      <td>13.717514</td>\n",
       "    </tr>\n",
       "    <tr>\n",
       "      <th>4</th>\n",
       "      <td>37.536653</td>\n",
       "      <td>4.446308</td>\n",
       "      <td>33.330673</td>\n",
       "      <td>12.795189</td>\n",
       "    </tr>\n",
       "    <tr>\n",
       "      <th>...</th>\n",
       "      <td>...</td>\n",
       "      <td>...</td>\n",
       "      <td>...</td>\n",
       "      <td>...</td>\n",
       "    </tr>\n",
       "    <tr>\n",
       "      <th>495</th>\n",
       "      <td>36.417985</td>\n",
       "      <td>3.746573</td>\n",
       "      <td>33.237660</td>\n",
       "      <td>13.566160</td>\n",
       "    </tr>\n",
       "    <tr>\n",
       "      <th>496</th>\n",
       "      <td>37.190268</td>\n",
       "      <td>3.576526</td>\n",
       "      <td>34.702529</td>\n",
       "      <td>11.695736</td>\n",
       "    </tr>\n",
       "    <tr>\n",
       "      <th>497</th>\n",
       "      <td>38.332576</td>\n",
       "      <td>4.958264</td>\n",
       "      <td>32.646777</td>\n",
       "      <td>11.499409</td>\n",
       "    </tr>\n",
       "    <tr>\n",
       "      <th>498</th>\n",
       "      <td>36.840086</td>\n",
       "      <td>2.336485</td>\n",
       "      <td>33.322501</td>\n",
       "      <td>12.391423</td>\n",
       "    </tr>\n",
       "    <tr>\n",
       "      <th>499</th>\n",
       "      <td>35.771016</td>\n",
       "      <td>2.735160</td>\n",
       "      <td>33.715981</td>\n",
       "      <td>12.418808</td>\n",
       "    </tr>\n",
       "  </tbody>\n",
       "</table>\n",
       "<p>500 rows × 4 columns</p>\n",
       "</div>"
      ],
      "text/plain": [
       "     Time on Website  Length of Membership  Avg. Session Length  Time on App\n",
       "0          39.577668              4.082621            34.497268    12.655651\n",
       "1          37.268959              2.664034            31.926272    11.109461\n",
       "2          37.110597              4.104543            33.000915    11.330278\n",
       "3          36.721283              3.120179            34.305557    13.717514\n",
       "4          37.536653              4.446308            33.330673    12.795189\n",
       "..               ...                   ...                  ...          ...\n",
       "495        36.417985              3.746573            33.237660    13.566160\n",
       "496        37.190268              3.576526            34.702529    11.695736\n",
       "497        38.332576              4.958264            32.646777    11.499409\n",
       "498        36.840086              2.336485            33.322501    12.391423\n",
       "499        35.771016              2.735160            33.715981    12.418808\n",
       "\n",
       "[500 rows x 4 columns]"
      ]
     },
     "execution_count": 70,
     "metadata": {},
     "output_type": "execute_result"
    }
   ],
   "source": [
    "a"
   ]
  },
  {
   "cell_type": "code",
   "execution_count": 71,
   "id": "39d6bb24",
   "metadata": {},
   "outputs": [],
   "source": [
    "model= LinearRegression()"
   ]
  },
  {
   "cell_type": "code",
   "execution_count": 72,
   "id": "524be6fd",
   "metadata": {},
   "outputs": [
    {
     "data": {
      "text/plain": [
       "LinearRegression()"
      ]
     },
     "execution_count": 72,
     "metadata": {},
     "output_type": "execute_result"
    }
   ],
   "source": [
    "model.fit(x_train,y_train)"
   ]
  },
  {
   "cell_type": "code",
   "execution_count": 74,
   "id": "202dfcfe",
   "metadata": {},
   "outputs": [
    {
     "data": {
      "text/plain": [
       "array([[403.00370248],\n",
       "       [542.48732756],\n",
       "       [426.70657047],\n",
       "       [501.79878953],\n",
       "       [409.68219194],\n",
       "       [569.80999489],\n",
       "       [531.64464555],\n",
       "       [506.00543495],\n",
       "       [408.15784756],\n",
       "       [473.58259769],\n",
       "       [441.15314384],\n",
       "       [424.65292701],\n",
       "       [424.79840933],\n",
       "       [527.36481617],\n",
       "       [430.92314484],\n",
       "       [423.58985097],\n",
       "       [575.78658915],\n",
       "       [484.65106369],\n",
       "       [457.8339272 ],\n",
       "       [481.6703765 ],\n",
       "       [501.75715683],\n",
       "       [513.26751075],\n",
       "       [507.37150822],\n",
       "       [646.63019589],\n",
       "       [449.78629713],\n",
       "       [496.26794513],\n",
       "       [556.26610363],\n",
       "       [554.85614214],\n",
       "       [399.16634409],\n",
       "       [325.19631025],\n",
       "       [532.75252871],\n",
       "       [477.74536777],\n",
       "       [500.80281173],\n",
       "       [305.10102097],\n",
       "       [505.54810203],\n",
       "       [483.55503211],\n",
       "       [519.00998826],\n",
       "       [437.77631866],\n",
       "       [456.28136623],\n",
       "       [470.68204434],\n",
       "       [494.19182767],\n",
       "       [444.62614365],\n",
       "       [508.58755145],\n",
       "       [500.85501782],\n",
       "       [488.33071703],\n",
       "       [535.38752325],\n",
       "       [594.7469925 ],\n",
       "       [513.71753645],\n",
       "       [279.75763225],\n",
       "       [432.58323922],\n",
       "       [421.17836403],\n",
       "       [480.8906716 ],\n",
       "       [584.61124509],\n",
       "       [608.64102255],\n",
       "       [564.22767192],\n",
       "       [494.54245357],\n",
       "       [393.93186267],\n",
       "       [455.91314011],\n",
       "       [573.06887689],\n",
       "       [499.3908778 ],\n",
       "       [512.41436265],\n",
       "       [391.56864402],\n",
       "       [479.71332889],\n",
       "       [481.10834345],\n",
       "       [474.75889423],\n",
       "       [546.31925231],\n",
       "       [430.24050572],\n",
       "       [601.97959355],\n",
       "       [422.06862229],\n",
       "       [493.19174586],\n",
       "       [528.36251239],\n",
       "       [581.22861426],\n",
       "       [620.47948215],\n",
       "       [512.39264832],\n",
       "       [411.29164364],\n",
       "       [498.12906693],\n",
       "       [461.34913784],\n",
       "       [445.75061294],\n",
       "       [447.75292195],\n",
       "       [534.95795288],\n",
       "       [599.09883553],\n",
       "       [619.39178783],\n",
       "       [494.27047768],\n",
       "       [672.25419617],\n",
       "       [532.16766616],\n",
       "       [438.39104775],\n",
       "       [514.87862835],\n",
       "       [546.70945698],\n",
       "       [331.55908998],\n",
       "       [510.23461057],\n",
       "       [536.24004989],\n",
       "       [499.61587133],\n",
       "       [376.15817543],\n",
       "       [573.64400778],\n",
       "       [479.20909346],\n",
       "       [588.49024429],\n",
       "       [485.23468818],\n",
       "       [455.92127009],\n",
       "       [398.7915089 ],\n",
       "       [451.50121493],\n",
       "       [519.13246523],\n",
       "       [434.1212166 ],\n",
       "       [596.21462501],\n",
       "       [487.72080788],\n",
       "       [406.75275149],\n",
       "       [523.73647975],\n",
       "       [503.73236939],\n",
       "       [451.46134731],\n",
       "       [524.12788041],\n",
       "       [456.94767753]])"
      ]
     },
     "execution_count": 74,
     "metadata": {},
     "output_type": "execute_result"
    }
   ],
   "source": [
    "y_prediction=model.predict(x_test)\n",
    "y_prediction"
   ]
  },
  {
   "cell_type": "code",
   "execution_count": 79,
   "id": "5181709f",
   "metadata": {},
   "outputs": [
    {
     "data": {
      "text/plain": [
       "108.85763648715337"
      ]
     },
     "execution_count": 79,
     "metadata": {},
     "output_type": "execute_result"
    }
   ],
   "source": [
    "from sklearn import metrics\n",
    "metrics.mean_squared_error(y_prediction,y_test)"
   ]
  },
  {
   "cell_type": "code",
   "execution_count": 81,
   "id": "f8bebafe",
   "metadata": {},
   "outputs": [
    {
     "data": {
      "text/plain": [
       "0.9775222823603761"
      ]
     },
     "execution_count": 81,
     "metadata": {},
     "output_type": "execute_result"
    }
   ],
   "source": [
    "metrics.r2_score(y_prediction,y_test)"
   ]
  },
  {
   "cell_type": "code",
   "execution_count": 82,
   "id": "a5a31149",
   "metadata": {},
   "outputs": [
    {
     "data": {
      "text/plain": [
       "<matplotlib.collections.PathCollection at 0x2b2f7796a90>"
      ]
     },
     "execution_count": 82,
     "metadata": {},
     "output_type": "execute_result"
    },
    {
     "data": {
      "image/png": "[encoded data removed]",
      "text/plain": [
       "<Figure size 432x288 with 1 Axes>"
      ]
     },
     "metadata": {
      "needs_background": "light"
     },
     "output_type": "display_data"
    }
   ],
   "source": [
    "plt.scatter(y_prediction,y_test)"
   ]
  },
  {
   "cell_type": "code",
   "execution_count": 84,
   "id": "c26d821b",
   "metadata": {},
   "outputs": [
    {
     "data": {
      "text/plain": [
       "Ridge()"
      ]
     },
     "execution_count": 84,
     "metadata": {},
     "output_type": "execute_result"
    }
   ],
   "source": [
    "model=Ridge()\n",
    "model.fit(x_train,y_train)"
   ]
  },
  {
   "cell_type": "code",
   "execution_count": 85,
   "id": "323b5923",
   "metadata": {},
   "outputs": [
    {
     "data": {
      "text/plain": [
       "array([[403.24561534],\n",
       "       [542.39249729],\n",
       "       [426.89602479],\n",
       "       [501.79540055],\n",
       "       [409.90644411],\n",
       "       [569.65068112],\n",
       "       [531.56971183],\n",
       "       [505.99940426],\n",
       "       [408.38001942],\n",
       "       [473.65492657],\n",
       "       [441.29814519],\n",
       "       [424.83390579],\n",
       "       [424.97409332],\n",
       "       [527.30936125],\n",
       "       [431.09248068],\n",
       "       [423.77239097],\n",
       "       [575.60954152],\n",
       "       [484.68833194],\n",
       "       [457.93351225],\n",
       "       [481.72180714],\n",
       "       [501.756222  ],\n",
       "       [513.23966609],\n",
       "       [507.35629427],\n",
       "       [646.29238213],\n",
       "       [449.9067126 ],\n",
       "       [496.28341563],\n",
       "       [556.1487369 ],\n",
       "       [554.73084427],\n",
       "       [399.41055991],\n",
       "       [325.61085018],\n",
       "       [532.68357074],\n",
       "       [477.80633247],\n",
       "       [500.80594404],\n",
       "       [305.55536043],\n",
       "       [505.54458659],\n",
       "       [483.59560419],\n",
       "       [518.97293018],\n",
       "       [437.92333292],\n",
       "       [456.39073797],\n",
       "       [470.75777778],\n",
       "       [494.21000496],\n",
       "       [444.74911874],\n",
       "       [508.57033197],\n",
       "       [500.8589739 ],\n",
       "       [488.36144451],\n",
       "       [535.31291725],\n",
       "       [594.53167642],\n",
       "       [513.69114463],\n",
       "       [280.28103582],\n",
       "       [432.7438967 ],\n",
       "       [421.37449387],\n",
       "       [480.9387038 ],\n",
       "       [584.42609433],\n",
       "       [608.39481605],\n",
       "       [564.0833767 ],\n",
       "       [494.5569802 ],\n",
       "       [394.17974315],\n",
       "       [456.01093569],\n",
       "       [572.90310151],\n",
       "       [499.40662042],\n",
       "       [512.38507576],\n",
       "       [391.82488639],\n",
       "       [479.77238011],\n",
       "       [481.15453083],\n",
       "       [474.82203281],\n",
       "       [546.21706513],\n",
       "       [430.40501267],\n",
       "       [601.74169395],\n",
       "       [422.25210874],\n",
       "       [493.21233325],\n",
       "       [528.30302752],\n",
       "       [581.04523355],\n",
       "       [620.20553928],\n",
       "       [512.36711067],\n",
       "       [411.50528131],\n",
       "       [498.1340953 ],\n",
       "       [461.44654076],\n",
       "       [445.89171273],\n",
       "       [447.88128194],\n",
       "       [534.87655578],\n",
       "       [598.86715265],\n",
       "       [619.11344223],\n",
       "       [494.2926796 ],\n",
       "       [671.8529469 ],\n",
       "       [532.09330171],\n",
       "       [438.53812076],\n",
       "       [514.85880539],\n",
       "       [546.60916935],\n",
       "       [331.9587274 ],\n",
       "       [510.21108516],\n",
       "       [536.15773594],\n",
       "       [499.62179403],\n",
       "       [376.45707419],\n",
       "       [573.4770034 ],\n",
       "       [479.25357295],\n",
       "       [588.29564773],\n",
       "       [485.26897668],\n",
       "       [456.03242702],\n",
       "       [399.04147678],\n",
       "       [451.62103857],\n",
       "       [519.09200565],\n",
       "       [434.27326887],\n",
       "       [595.99197236],\n",
       "       [487.75869018],\n",
       "       [406.97405066],\n",
       "       [523.68366923],\n",
       "       [503.72524075],\n",
       "       [451.58143828],\n",
       "       [524.07625784],\n",
       "       [457.04912765]])"
      ]
     },
     "execution_count": 85,
     "metadata": {},
     "output_type": "execute_result"
    }
   ],
   "source": [
    "y_prediction=model.predict(x_test)\n",
    "y_prediction"
   ]
  },
  {
   "cell_type": "code",
   "execution_count": 89,
   "id": "8e640296",
   "metadata": {},
   "outputs": [
    {
     "data": {
      "text/plain": [
       "108.49873374019184"
      ]
     },
     "execution_count": 89,
     "metadata": {},
     "output_type": "execute_result"
    }
   ],
   "source": [
    "from sklearn import metrics\n",
    "metrics.mean_squared_error(y_prediction,y_test)"
   ]
  },
  {
   "cell_type": "code",
   "execution_count": 90,
   "id": "98994160",
   "metadata": {},
   "outputs": [
    {
     "data": {
      "text/plain": [
       "0.9774910833387631"
      ]
     },
     "execution_count": 90,
     "metadata": {},
     "output_type": "execute_result"
    }
   ],
   "source": [
    "metrics.r2_score(y_prediction,y_test)"
   ]
  },
  {
   "cell_type": "code",
   "execution_count": 94,
   "id": "a3e75795",
   "metadata": {},
   "outputs": [
    {
     "data": {
      "text/plain": [
       "<matplotlib.collections.PathCollection at 0x2b2f780d550>"
      ]
     },
     "execution_count": 94,
     "metadata": {},
     "output_type": "execute_result"
    },
    {
     "data": {
      "image/png": "[encoded data removed]",
      "text/plain": [
       "<Figure size 432x288 with 1 Axes>"
      ]
     },
     "metadata": {
      "needs_background": "light"
     },
     "output_type": "display_data"
    }
   ],
   "source": [
    "plt.scatter(y_prediction,y_test)"
   ]
  },
  {
   "cell_type": "code",
   "execution_count": 96,
   "id": "1782782d",
   "metadata": {},
   "outputs": [
    {
     "data": {
      "text/plain": [
       "[<matplotlib.lines.Line2D at 0x2b2f7883400>]"
      ]
     },
     "execution_count": 96,
     "metadata": {},
     "output_type": "execute_result"
    },
    {
     "data": {
      "image/png": "[encoded data removed]",
      "text/plain": [
       "<Figure size 432x288 with 1 Axes>"
      ]
     },
     "metadata": {
      "needs_background": "light"
     },
     "output_type": "display_data"
    }
   ],
   "source": [
    "plt.plot(y_prediction,y_test)"
   ]
  },
  {
   "cell_type": "code",
   "execution_count": null,
   "id": "745aa73f",
   "metadata": {},
   "outputs": [],
   "source": []
  }
 ],
 "metadata": {
  "kernelspec": {
   "display_name": "Python 3 (ipykernel)",
   "language": "python",
   "name": "python3"
  },
  "language_info": {
   "codemirror_mode": {
    "name": "ipython",
    "version": 3
   },
   "file_extension": ".py",
   "mimetype": "text/x-python",
   "name": "python",
   "nbconvert_exporter": "python",
   "pygments_lexer": "ipython3",
   "version": "3.9.7"
  }
 },
 "nbformat": 4,
 "nbformat_minor": 5
}
